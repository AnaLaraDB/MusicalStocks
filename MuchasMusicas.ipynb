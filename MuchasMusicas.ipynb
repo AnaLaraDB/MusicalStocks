{
 "cells": [
  {
   "cell_type": "code",
   "execution_count": 2,
   "metadata": {},
   "outputs": [],
   "source": [
    "import simpleaudio as sa\n",
    "import pandas as pd\n",
    "import matplotlib.pyplot as plt\n",
    "import ipywidgets as widgets\n",
    "from ipywidgets import interact\n",
    "from pandas_datareader import data as wb"
   ]
  },
  {
   "cell_type": "code",
   "execution_count": 3,
   "metadata": {},
   "outputs": [],
   "source": [
    "alto = sa.WaveObject.from_wave_file ('C:/Users/Larita/Desktop/Tunes/alto.wav')\n",
    "baixo = sa.WaveObject.from_wave_file ('C:/Users/Larita/Desktop/Tunes/baixo.wav')"
   ]
  },
  {
   "cell_type": "code",
   "execution_count": 4,
   "metadata": {},
   "outputs": [],
   "source": [
    "tickers = ['PG', 'MSFT', 'T', 'F', 'GE']\n",
    "new_data = pd.DataFrame()\n",
    "for t in tickers:\n",
    "    new_data[t] = wb.DataReader(t, data_source = 'yahoo', start = '2000-1-1')['Adj Close']"
   ]
  },
  {
   "cell_type": "code",
   "execution_count": 5,
   "metadata": {},
   "outputs": [],
   "source": [
    "new_data['PG Daily'] = new_data['PG'] - new_data['PG'].shift(1)\n",
    "new_data['MSFT Daily'] = new_data['MSFT'] - new_data['MSFT'].shift(1)\n",
    "new_data['T Daily'] = new_data['T'] - new_data['T'].shift(1)\n",
    "new_data['F Daily'] = new_data['F'] - new_data['F'].shift(1)\n",
    "new_data['GE Daily'] = new_data['GE'] - new_data['GE'].shift(1)"
   ]
  },
  {
   "cell_type": "code",
   "execution_count": 29,
   "metadata": {},
   "outputs": [
    {
     "data": {
      "application/vnd.jupyter.widget-view+json": {
       "model_id": "041859324b3e4705a418f88ecc3a2cd1",
       "version_major": 2,
       "version_minor": 0
      },
      "text/plain": [
       "interactive(children=(Dropdown(description='Ticker:', options=('PG', 'MSFT', 'T', 'F', 'GE'), value='PG'), Int…"
      ]
     },
     "metadata": {},
     "output_type": "display_data"
    },
    {
     "data": {
      "text/plain": [
       "<function __main__.makingMusic(tickers, date)>"
      ]
     },
     "execution_count": 29,
     "metadata": {},
     "output_type": "execute_result"
    }
   ],
   "source": [
    "def makingMusic(tickers, date):\n",
    "    startDate = ((date[0]*252)-(2000*252))\n",
    "    endDate = ((date[1]*252)-(2000*252))\n",
    "    MusicalStock = []\n",
    "    if tickers == 'PG':\n",
    "        plt.plot(new_data['PG'][startDate:endDate])\n",
    "        for i in new_data['PG Daily']:\n",
    "            if 0 <= i:\n",
    "                MusicalStock.append(alto)\n",
    "            else:\n",
    "                MusicalStock.append(baixo)\n",
    "    if tickers == 'MSFT':\n",
    "        plt.plot(new_data['MSFT'][startDate:endDate])\n",
    "        for i in new_data['MSFT Daily']:\n",
    "            if 0 <= i:\n",
    "                MusicalStock.append(alto)\n",
    "            else:\n",
    "                MusicalStock.append(baixo)\n",
    "    if tickers == 'T':\n",
    "        plt.plot(new_data['T'][startDate:endDate])\n",
    "        for i in new_data['T Daily']:\n",
    "            if 0 <= i:\n",
    "                MusicalStock.append(alto)\n",
    "            else:\n",
    "                MusicalStock.append(baixo)\n",
    "    if tickers == 'F':\n",
    "        plt.plot(new_data['F'][startDate:endDate])\n",
    "        for i in new_data['F Daily']:\n",
    "            if 0 <= i:\n",
    "                MusicalStock.append(alto)\n",
    "            else:\n",
    "                MusicalStock.append(baixo)\n",
    "    if tickers == 'GE':\n",
    "        plt.plot(new_data['GE'][startDate:endDate])\n",
    "        for i in new_data['GE Daily']:\n",
    "            if 0 <= i:\n",
    "                MusicalStock.append(alto)\n",
    "            else:\n",
    "                MusicalStock.append(baixo)\n",
    "                \n",
    "    plt.show()           \n",
    "    for m in MusicalStock:\n",
    "         playobj = m.play()\n",
    "         playobj.wait_done()\n",
    "        \n",
    "    \n",
    "interact(makingMusic, tickers =widgets.Dropdown(\n",
    "    options=['PG', 'MSFT', 'T','F', 'GE'],\n",
    "    value='PG',\n",
    "    description='Ticker:',\n",
    "    disabled=False,\n",
    "    ), date =  widgets.IntRangeSlider(\n",
    "    value=(2000,2020),\n",
    "    min=2000,\n",
    "    max=2020,\n",
    "    step=1,\n",
    "    description='Year:',\n",
    "    disabled=False,\n",
    "    continuous_update=True,\n",
    "    orientation='horizontal',\n",
    "    readout=True,\n",
    "    readout_format='d'\n",
    "))"
   ]
  },
  {
   "cell_type": "code",
   "execution_count": 4,
   "metadata": {},
   "outputs": [],
   "source": []
  },
  {
   "cell_type": "code",
   "execution_count": null,
   "metadata": {},
   "outputs": [],
   "source": []
  },
  {
   "cell_type": "code",
   "execution_count": null,
   "metadata": {},
   "outputs": [],
   "source": []
  }
 ],
 "metadata": {
  "kernelspec": {
   "display_name": "Python 3",
   "language": "python",
   "name": "python3"
  },
  "language_info": {
   "codemirror_mode": {
    "name": "ipython",
    "version": 3
   },
   "file_extension": ".py",
   "mimetype": "text/x-python",
   "name": "python",
   "nbconvert_exporter": "python",
   "pygments_lexer": "ipython3",
   "version": "3.7.4"
  }
 },
 "nbformat": 4,
 "nbformat_minor": 2
}
